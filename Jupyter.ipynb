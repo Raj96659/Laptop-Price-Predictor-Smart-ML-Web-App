{
 "cells": [
  {
   "cell_type": "code",
   "execution_count": 1,
   "id": "11af2baa-8149-4879-8a5a-4ee2f24cfc6c",
   "metadata": {},
   "outputs": [],
   "source": [
    "import pandas as pd\n",
    "import numpy as np\n",
    "import seaborn as sns\n",
    "import matplotlib.pyplot as plt"
   ]
  },
  {
   "cell_type": "code",
   "execution_count": 2,
   "id": "9939d5d4-41f1-4d7e-8b8c-1372273d0541",
   "metadata": {},
   "outputs": [],
   "source": [
    "df = pd.read_csv('../../Desktop/Laptop_Price_Predictor/laptop_data.csv')"
   ]
  },
  {
   "cell_type": "code",
   "execution_count": 3,
   "id": "aaf70fff-c917-4be7-9335-91f1b44b6e3a",
   "metadata": {},
   "outputs": [
    {
     "data": {
      "text/html": [
       "<div>\n",
       "<style scoped>\n",
       "    .dataframe tbody tr th:only-of-type {\n",
       "        vertical-align: middle;\n",
       "    }\n",
       "\n",
       "    .dataframe tbody tr th {\n",
       "        vertical-align: top;\n",
       "    }\n",
       "\n",
       "    .dataframe thead th {\n",
       "        text-align: right;\n",
       "    }\n",
       "</style>\n",
       "<table border=\"1\" class=\"dataframe\">\n",
       "  <thead>\n",
       "    <tr style=\"text-align: right;\">\n",
       "      <th></th>\n",
       "      <th>Unnamed: 0</th>\n",
       "      <th>Company</th>\n",
       "      <th>TypeName</th>\n",
       "      <th>Inches</th>\n",
       "      <th>ScreenResolution</th>\n",
       "      <th>Cpu</th>\n",
       "      <th>Ram</th>\n",
       "      <th>Memory</th>\n",
       "      <th>Gpu</th>\n",
       "      <th>OpSys</th>\n",
       "      <th>Weight</th>\n",
       "      <th>Price</th>\n",
       "    </tr>\n",
       "  </thead>\n",
       "  <tbody>\n",
       "    <tr>\n",
       "      <th>0</th>\n",
       "      <td>0</td>\n",
       "      <td>Apple</td>\n",
       "      <td>Ultrabook</td>\n",
       "      <td>13.3</td>\n",
       "      <td>IPS Panel Retina Display 2560x1600</td>\n",
       "      <td>Intel Core i5 2.3GHz</td>\n",
       "      <td>8GB</td>\n",
       "      <td>128GB SSD</td>\n",
       "      <td>Intel Iris Plus Graphics 640</td>\n",
       "      <td>macOS</td>\n",
       "      <td>1.37kg</td>\n",
       "      <td>71378.6832</td>\n",
       "    </tr>\n",
       "    <tr>\n",
       "      <th>1</th>\n",
       "      <td>1</td>\n",
       "      <td>Apple</td>\n",
       "      <td>Ultrabook</td>\n",
       "      <td>13.3</td>\n",
       "      <td>1440x900</td>\n",
       "      <td>Intel Core i5 1.8GHz</td>\n",
       "      <td>8GB</td>\n",
       "      <td>128GB Flash Storage</td>\n",
       "      <td>Intel HD Graphics 6000</td>\n",
       "      <td>macOS</td>\n",
       "      <td>1.34kg</td>\n",
       "      <td>47895.5232</td>\n",
       "    </tr>\n",
       "    <tr>\n",
       "      <th>2</th>\n",
       "      <td>2</td>\n",
       "      <td>HP</td>\n",
       "      <td>Notebook</td>\n",
       "      <td>15.6</td>\n",
       "      <td>Full HD 1920x1080</td>\n",
       "      <td>Intel Core i5 7200U 2.5GHz</td>\n",
       "      <td>8GB</td>\n",
       "      <td>256GB SSD</td>\n",
       "      <td>Intel HD Graphics 620</td>\n",
       "      <td>No OS</td>\n",
       "      <td>1.86kg</td>\n",
       "      <td>30636.0000</td>\n",
       "    </tr>\n",
       "    <tr>\n",
       "      <th>3</th>\n",
       "      <td>3</td>\n",
       "      <td>Apple</td>\n",
       "      <td>Ultrabook</td>\n",
       "      <td>15.4</td>\n",
       "      <td>IPS Panel Retina Display 2880x1800</td>\n",
       "      <td>Intel Core i7 2.7GHz</td>\n",
       "      <td>16GB</td>\n",
       "      <td>512GB SSD</td>\n",
       "      <td>AMD Radeon Pro 455</td>\n",
       "      <td>macOS</td>\n",
       "      <td>1.83kg</td>\n",
       "      <td>135195.3360</td>\n",
       "    </tr>\n",
       "    <tr>\n",
       "      <th>4</th>\n",
       "      <td>4</td>\n",
       "      <td>Apple</td>\n",
       "      <td>Ultrabook</td>\n",
       "      <td>13.3</td>\n",
       "      <td>IPS Panel Retina Display 2560x1600</td>\n",
       "      <td>Intel Core i5 3.1GHz</td>\n",
       "      <td>8GB</td>\n",
       "      <td>256GB SSD</td>\n",
       "      <td>Intel Iris Plus Graphics 650</td>\n",
       "      <td>macOS</td>\n",
       "      <td>1.37kg</td>\n",
       "      <td>96095.8080</td>\n",
       "    </tr>\n",
       "  </tbody>\n",
       "</table>\n",
       "</div>"
      ],
      "text/plain": [
       "   Unnamed: 0 Company   TypeName  Inches                    ScreenResolution  \\\n",
       "0           0   Apple  Ultrabook    13.3  IPS Panel Retina Display 2560x1600   \n",
       "1           1   Apple  Ultrabook    13.3                            1440x900   \n",
       "2           2      HP   Notebook    15.6                   Full HD 1920x1080   \n",
       "3           3   Apple  Ultrabook    15.4  IPS Panel Retina Display 2880x1800   \n",
       "4           4   Apple  Ultrabook    13.3  IPS Panel Retina Display 2560x1600   \n",
       "\n",
       "                          Cpu   Ram               Memory  \\\n",
       "0        Intel Core i5 2.3GHz   8GB            128GB SSD   \n",
       "1        Intel Core i5 1.8GHz   8GB  128GB Flash Storage   \n",
       "2  Intel Core i5 7200U 2.5GHz   8GB            256GB SSD   \n",
       "3        Intel Core i7 2.7GHz  16GB            512GB SSD   \n",
       "4        Intel Core i5 3.1GHz   8GB            256GB SSD   \n",
       "\n",
       "                            Gpu  OpSys  Weight        Price  \n",
       "0  Intel Iris Plus Graphics 640  macOS  1.37kg   71378.6832  \n",
       "1        Intel HD Graphics 6000  macOS  1.34kg   47895.5232  \n",
       "2         Intel HD Graphics 620  No OS  1.86kg   30636.0000  \n",
       "3            AMD Radeon Pro 455  macOS  1.83kg  135195.3360  \n",
       "4  Intel Iris Plus Graphics 650  macOS  1.37kg   96095.8080  "
      ]
     },
     "execution_count": 3,
     "metadata": {},
     "output_type": "execute_result"
    }
   ],
   "source": [
    "df.head()"
   ]
  },
  {
   "cell_type": "code",
   "execution_count": 4,
   "id": "1af2ec68-9707-47f7-944a-4cff363ca0ed",
   "metadata": {},
   "outputs": [
    {
     "data": {
      "text/plain": [
       "(1303, 12)"
      ]
     },
     "execution_count": 4,
     "metadata": {},
     "output_type": "execute_result"
    }
   ],
   "source": [
    "df.shape"
   ]
  },
  {
   "cell_type": "code",
   "execution_count": 5,
   "id": "76c358ac-c92b-4e07-ad25-b3f151596399",
   "metadata": {},
   "outputs": [
    {
     "name": "stdout",
     "output_type": "stream",
     "text": [
      "<class 'pandas.core.frame.DataFrame'>\n",
      "RangeIndex: 1303 entries, 0 to 1302\n",
      "Data columns (total 12 columns):\n",
      " #   Column            Non-Null Count  Dtype  \n",
      "---  ------            --------------  -----  \n",
      " 0   Unnamed: 0        1303 non-null   int64  \n",
      " 1   Company           1303 non-null   object \n",
      " 2   TypeName          1303 non-null   object \n",
      " 3   Inches            1303 non-null   float64\n",
      " 4   ScreenResolution  1303 non-null   object \n",
      " 5   Cpu               1303 non-null   object \n",
      " 6   Ram               1303 non-null   object \n",
      " 7   Memory            1303 non-null   object \n",
      " 8   Gpu               1303 non-null   object \n",
      " 9   OpSys             1303 non-null   object \n",
      " 10  Weight            1303 non-null   object \n",
      " 11  Price             1303 non-null   float64\n",
      "dtypes: float64(2), int64(1), object(9)\n",
      "memory usage: 122.3+ KB\n"
     ]
    }
   ],
   "source": [
    "df.info()"
   ]
  },
  {
   "cell_type": "code",
   "execution_count": 6,
   "id": "93637760-ea77-4cc6-b17f-a5f2ed2f67b0",
   "metadata": {},
   "outputs": [
    {
     "data": {
      "text/plain": [
       "np.int64(0)"
      ]
     },
     "execution_count": 6,
     "metadata": {},
     "output_type": "execute_result"
    }
   ],
   "source": [
    "df.duplicated().sum()"
   ]
  },
  {
   "cell_type": "code",
   "execution_count": 7,
   "id": "75eed8e7-9561-4e50-a7ca-5e0a34cd403c",
   "metadata": {},
   "outputs": [
    {
     "data": {
      "text/plain": [
       "Unnamed: 0          0\n",
       "Company             0\n",
       "TypeName            0\n",
       "Inches              0\n",
       "ScreenResolution    0\n",
       "Cpu                 0\n",
       "Ram                 0\n",
       "Memory              0\n",
       "Gpu                 0\n",
       "OpSys               0\n",
       "Weight              0\n",
       "Price               0\n",
       "dtype: int64"
      ]
     },
     "execution_count": 7,
     "metadata": {},
     "output_type": "execute_result"
    }
   ],
   "source": [
    "df.isnull().sum()"
   ]
  },
  {
   "cell_type": "code",
   "execution_count": 8,
   "id": "296d0418-bd18-458a-9926-ee9d7e73a40e",
   "metadata": {},
   "outputs": [
    {
     "data": {
      "text/plain": [
       "Index(['Unnamed: 0', 'Company', 'TypeName', 'Inches', 'ScreenResolution',\n",
       "       'Cpu', 'Ram', 'Memory', 'Gpu', 'OpSys', 'Weight', 'Price'],\n",
       "      dtype='object')"
      ]
     },
     "execution_count": 8,
     "metadata": {},
     "output_type": "execute_result"
    }
   ],
   "source": [
    "df.columns"
   ]
  },
  {
   "cell_type": "markdown",
   "id": "cab28d17-41cb-49fc-b572-6d14fe2f6295",
   "metadata": {},
   "source": [
    "### Data Handling"
   ]
  },
  {
   "cell_type": "code",
   "execution_count": 9,
   "id": "75b2acb2-0440-4513-86a4-2a2cca1843b9",
   "metadata": {},
   "outputs": [],
   "source": [
    "df.drop(columns=['Unnamed: 0'],inplace=True)"
   ]
  },
  {
   "cell_type": "code",
   "execution_count": 10,
   "id": "8826e9bf-ff9a-4680-b8f0-7d69c3db781c",
   "metadata": {},
   "outputs": [],
   "source": [
    "df['Ram'] = df['Ram'].str.replace('GB','')"
   ]
  },
  {
   "cell_type": "code",
   "execution_count": 11,
   "id": "0c4e0da5-37e4-4075-95c2-15b2258e9037",
   "metadata": {},
   "outputs": [],
   "source": [
    "df['Weight'] = df['Weight'].str.replace('kg','')"
   ]
  },
  {
   "cell_type": "code",
   "execution_count": 12,
   "id": "f01b4e3b-97b7-49d6-b69c-516f861e4da6",
   "metadata": {},
   "outputs": [],
   "source": [
    "df['Ram'] = df['Ram'].astype('int')\n",
    "df['Weight'] = df['Weight'].astype('float')"
   ]
  },
  {
   "cell_type": "markdown",
   "id": "de80fc52-a89d-4b94-ae47-4bed73399a25",
   "metadata": {},
   "source": [
    "### EDA"
   ]
  },
  {
   "cell_type": "markdown",
   "id": "86bb37f9-b77b-47af-bf21-48ab7ca65bb4",
   "metadata": {},
   "source": [
    "### 1. Price and Company"
   ]
  },
  {
   "cell_type": "code",
   "execution_count": 13,
   "id": "71b7a9c0-88d3-4bea-a405-5273db092001",
   "metadata": {},
   "outputs": [
    {
     "name": "stderr",
     "output_type": "stream",
     "text": [
      "C:\\Users\\Jay Sunil Sonawane\\AppData\\Local\\Temp\\ipykernel_24848\\834922981.py:1: UserWarning: \n",
      "\n",
      "`distplot` is a deprecated function and will be removed in seaborn v0.14.0.\n",
      "\n",
      "Please adapt your code to use either `displot` (a figure-level function with\n",
      "similar flexibility) or `histplot` (an axes-level function for histograms).\n",
      "\n",
      "For a guide to updating your code to use the new functions, please see\n",
      "https://gist.github.com/mwaskom/de44147ed2974457ad6372750bbe5751\n",
      "\n",
      "  sns.distplot(df['Price'])\n"
     ]
    },
    {
     "data": {
      "text/plain": [
       "<Axes: xlabel='Price', ylabel='Density'>"
      ]
     },
     "execution_count": 13,
     "metadata": {},
     "output_type": "execute_result"
    },
    {
     "data": {
      "image/png": "[encoded data removed]",
      "text/plain": [
       "<Figure size 640x480 with 1 Axes>"
      ]
     },
     "metadata": {},
     "output_type": "display_data"
    }
   ],
   "source": [
    "sns.distplot(df['Price'])"
   ]
  },
  {
   "cell_type": "markdown",
   "id": "40fd435e-45d8-46ee-bfae-9f70e78b9503",
   "metadata": {},
   "source": [
    "<h4>Data is slightly skewed</h4>"
   ]
  },
  {
   "cell_type": "code",
   "execution_count": 14,
   "id": "0c50b4ef-a357-4f5e-a64b-e36233b987a4",
   "metadata": {},
   "outputs": [
    {
     "data": {
      "text/plain": [
       "<Axes: xlabel='Company'>"
      ]
     },
     "execution_count": 14,
     "metadata": {},
     "output_type": "execute_result"
    },
    {
     "data": {
      "image/png": "[encoded data removed]",
      "text/plain": [
       "<Figure size 640x480 with 1 Axes>"
      ]
     },
     "metadata": {},
     "output_type": "display_data"
    }
   ],
   "source": [
    "df['Company'].value_counts().plot(kind='bar')"
   ]
  },
  {
   "cell_type": "code",
   "execution_count": 15,
   "id": "fba6c1b8-9859-45fe-958c-aaecdc5997b3",
   "metadata": {},
   "outputs": [
    {
     "data": {
      "text/plain": [
       "Company\n",
       "Acer          33394.615969\n",
       "Apple         83340.499886\n",
       "Asus          58830.143878\n",
       "Chuwi         16745.726400\n",
       "Dell          63193.755782\n",
       "Fujitsu       38841.120000\n",
       "Google        89386.080000\n",
       "HP            56891.044222\n",
       "Huawei        75870.720000\n",
       "LG           111834.720000\n",
       "Lenovo        57882.563200\n",
       "MSI           92116.226133\n",
       "Mediacom      15717.600000\n",
       "Microsoft     85903.788000\n",
       "Razer        178282.491429\n",
       "Samsung       75308.320000\n",
       "Toshiba       67549.050000\n",
       "Vero          11584.404000\n",
       "Xiaomi        60390.882000\n",
       "Name: Price, dtype: float64"
      ]
     },
     "execution_count": 15,
     "metadata": {},
     "output_type": "execute_result"
    }
   ],
   "source": [
    "df.groupby('Company')['Price'].mean()"
   ]
  },
  {
   "cell_type": "code",
   "execution_count": 16,
   "id": "f80d2292-aa18-4715-aff2-c0ec241be758",
   "metadata": {},
   "outputs": [
    {
     "data": {
      "image/png": "[encoded data removed]",
      "text/plain": [
       "<Figure size 640x480 with 1 Axes>"
      ]
     },
     "metadata": {},
     "output_type": "display_data"
    }
   ],
   "source": [
    "sns.barplot(x=df['Company'],y=df['Price'])\n",
    "plt.xticks(rotation='vertical')\n",
    "plt.show()"
   ]
  },
  {
   "cell_type": "markdown",
   "id": "d6fa4199-7fcc-4feb-a08d-d478818afe94",
   "metadata": {},
   "source": [
    "### 2. Price and Type"
   ]
  },
  {
   "cell_type": "code",
   "execution_count": 17,
   "id": "6f96566c-ea3a-4054-b24a-d06323a8fde4",
   "metadata": {},
   "outputs": [
    {
     "data": {
      "text/plain": [
       "<Axes: xlabel='TypeName'>"
      ]
     },
     "execution_count": 17,
     "metadata": {},
     "output_type": "execute_result"
    },
    {
     "data": {
      "image/png": "[encoded data removed]",
      "text/plain": [
       "<Figure size 640x480 with 1 Axes>"
      ]
     },
     "metadata": {},
     "output_type": "display_data"
    }
   ],
   "source": [
    "df['TypeName'].value_counts().plot(kind='bar')"
   ]
  },
  {
   "cell_type": "code",
   "execution_count": 18,
   "id": "a33408a1-0ca5-497b-aeb7-70ce2bf87f7b",
   "metadata": {},
   "outputs": [
    {
     "data": {
      "text/plain": [
       "TypeName\n",
       "Netbook                33898.440960\n",
       "Notebook               41669.149113\n",
       "2 in 1 Convertible     68326.360066\n",
       "Ultrabook              82489.713429\n",
       "Gaming                 92247.960187\n",
       "Workstation           121497.525683\n",
       "Name: Price, dtype: float64"
      ]
     },
     "execution_count": 18,
     "metadata": {},
     "output_type": "execute_result"
    }
   ],
   "source": [
    "df.groupby('TypeName')['Price'].mean().sort_values()"
   ]
  },
  {
   "cell_type": "code",
   "execution_count": 19,
   "id": "d2eddc3d-45ae-4822-8ef6-1f099460ad10",
   "metadata": {},
   "outputs": [
    {
     "data": {
      "image/png": "[encoded data removed]",
      "text/plain": [
       "<Figure size 400x400 with 1 Axes>"
      ]
     },
     "metadata": {},
     "output_type": "display_data"
    }
   ],
   "source": [
    "plt.figure(figsize=(4,4))\n",
    "sns.barplot(x=df['TypeName'],y=df['Price'])\n",
    "plt.xticks(rotation='vertical')\n",
    "plt.show()"
   ]
  },
  {
   "cell_type": "markdown",
   "id": "3a6afb8b-6e5d-408b-887e-0c6a2ff86b5d",
   "metadata": {},
   "source": [
    "### 3. Inches and Price"
   ]
  },
  {
   "cell_type": "code",
   "execution_count": 20,
   "id": "24bf3077-c405-4141-b045-72c8bac7e262",
   "metadata": {},
   "outputs": [
    {
     "data": {
      "text/plain": [
       "<Axes: xlabel='Inches', ylabel='Price'>"
      ]
     },
     "execution_count": 20,
     "metadata": {},
     "output_type": "execute_result"
    },
    {
     "data": {
      "image/png": "[encoded data removed]",
      "text/plain": [
       "<Figure size 640x480 with 1 Axes>"
      ]
     },
     "metadata": {},
     "output_type": "display_data"
    }
   ],
   "source": [
    "sns.scatterplot(x=df['Inches'],y=df['Price'])"
   ]
  },
  {
   "cell_type": "markdown",
   "id": "62cf0df8-30e9-49ee-a205-9e4b8f311299",
   "metadata": {},
   "source": [
    "### 4. Screen Resolution"
   ]
  },
  {
   "cell_type": "code",
   "execution_count": 21,
   "id": "7aaf8b78-47b1-4546-a8d3-3998e6f01ff2",
   "metadata": {},
   "outputs": [
    {
     "data": {
      "text/plain": [
       "ScreenResolution\n",
       "Full HD 1920x1080                                507\n",
       "1366x768                                         281\n",
       "IPS Panel Full HD 1920x1080                      230\n",
       "IPS Panel Full HD / Touchscreen 1920x1080         53\n",
       "Full HD / Touchscreen 1920x1080                   47\n",
       "1600x900                                          23\n",
       "Touchscreen 1366x768                              16\n",
       "Quad HD+ / Touchscreen 3200x1800                  15\n",
       "IPS Panel 4K Ultra HD 3840x2160                   12\n",
       "IPS Panel 4K Ultra HD / Touchscreen 3840x2160     11\n",
       "4K Ultra HD / Touchscreen 3840x2160               10\n",
       "IPS Panel 1366x768                                 7\n",
       "Touchscreen 2560x1440                              7\n",
       "4K Ultra HD 3840x2160                              7\n",
       "IPS Panel Retina Display 2304x1440                 6\n",
       "IPS Panel Retina Display 2560x1600                 6\n",
       "Touchscreen 2256x1504                              6\n",
       "IPS Panel Quad HD+ / Touchscreen 3200x1800         6\n",
       "IPS Panel Touchscreen 2560x1440                    5\n",
       "IPS Panel Retina Display 2880x1800                 4\n",
       "1440x900                                           4\n",
       "IPS Panel Touchscreen 1920x1200                    4\n",
       "IPS Panel 2560x1440                                4\n",
       "IPS Panel Quad HD+ 2560x1440                       3\n",
       "IPS Panel Touchscreen 1366x768                     3\n",
       "Quad HD+ 3200x1800                                 3\n",
       "1920x1080                                          3\n",
       "2560x1440                                          3\n",
       "Touchscreen 2400x1600                              3\n",
       "IPS Panel Quad HD+ 3200x1800                       2\n",
       "IPS Panel Full HD 2160x1440                        2\n",
       "IPS Panel Touchscreen / 4K Ultra HD 3840x2160      2\n",
       "IPS Panel Full HD 1366x768                         1\n",
       "Touchscreen / Quad HD+ 3200x1800                   1\n",
       "IPS Panel Retina Display 2736x1824                 1\n",
       "IPS Panel Full HD 2560x1440                        1\n",
       "IPS Panel Full HD 1920x1200                        1\n",
       "Touchscreen / Full HD 1920x1080                    1\n",
       "Touchscreen / 4K Ultra HD 3840x2160                1\n",
       "IPS Panel Touchscreen 2400x1600                    1\n",
       "Name: count, dtype: int64"
      ]
     },
     "execution_count": 21,
     "metadata": {},
     "output_type": "execute_result"
    }
   ],
   "source": [
    "df['ScreenResolution'].value_counts()"
   ]
  },
  {
   "cell_type": "code",
   "execution_count": 22,
   "id": "a7ff0473-75a7-4b52-9eb4-741bcc55cf8c",
   "metadata": {},
   "outputs": [],
   "source": [
    "# 1️. Extract Touchscreen (binary)\n",
    "\n",
    "df['Touchscreen'] = df['ScreenResolution'].apply(lambda x: 1 if 'Touchscreen' in x else 0)"
   ]
  },
  {
   "cell_type": "code",
   "execution_count": 23,
   "id": "c4f43754-4239-4d25-8578-4231a34dfc42",
   "metadata": {},
   "outputs": [
    {
     "data": {
      "text/plain": [
       "Touchscreen\n",
       "0    1111\n",
       "1     192\n",
       "Name: count, dtype: int64"
      ]
     },
     "execution_count": 23,
     "metadata": {},
     "output_type": "execute_result"
    }
   ],
   "source": [
    "df['Touchscreen'].value_counts()"
   ]
  },
  {
   "cell_type": "code",
   "execution_count": 24,
   "id": "2742b595-e75b-4dfb-8224-648401a8646c",
   "metadata": {},
   "outputs": [
    {
     "data": {
      "text/plain": [
       "Touchscreen\n",
       "0    56910.518862\n",
       "1    76995.205500\n",
       "Name: Price, dtype: float64"
      ]
     },
     "execution_count": 24,
     "metadata": {},
     "output_type": "execute_result"
    }
   ],
   "source": [
    "df.groupby('Touchscreen')['Price'].mean()"
   ]
  },
  {
   "cell_type": "code",
   "execution_count": 25,
   "id": "b82c209d-b6b6-4685-b305-787cffe0baaf",
   "metadata": {},
   "outputs": [],
   "source": [
    "# 2. Extract IPS Panel (binary)\n",
    "\n",
    "df['Ips'] = df['ScreenResolution'].apply(lambda x: 1 if 'IPS' in x else 0)"
   ]
  },
  {
   "cell_type": "code",
   "execution_count": 26,
   "id": "4c32a219-7ca2-4d0e-80c9-7d088f36a1d7",
   "metadata": {},
   "outputs": [
    {
     "data": {
      "text/plain": [
       "Ips\n",
       "0    938\n",
       "1    365\n",
       "Name: count, dtype: int64"
      ]
     },
     "execution_count": 26,
     "metadata": {},
     "output_type": "execute_result"
    }
   ],
   "source": [
    "df['Ips'].value_counts()"
   ]
  },
  {
   "cell_type": "code",
   "execution_count": 27,
   "id": "24296a88-b83b-484d-a7d3-4f67f535054d",
   "metadata": {},
   "outputs": [
    {
     "data": {
      "text/plain": [
       "Ips\n",
       "0    54012.931154\n",
       "1    74922.017780\n",
       "Name: Price, dtype: float64"
      ]
     },
     "execution_count": 27,
     "metadata": {},
     "output_type": "execute_result"
    }
   ],
   "source": [
    "df.groupby('Ips')['Price'].mean()"
   ]
  },
  {
   "cell_type": "code",
   "execution_count": 28,
   "id": "2dcefc62-a871-4e3c-a115-d96841e9f699",
   "metadata": {},
   "outputs": [],
   "source": [
    "# 3. Extract Resolution Width and Height\n",
    "resolution = df['ScreenResolution'].str.extract(r'(\\d+x\\d+)')\n",
    "df['X_res'] = resolution[0].apply(lambda x: int(x.split('x')[0]))\n",
    "df['Y_res'] = resolution[0].apply(lambda x: int(x.split('x')[1]))"
   ]
  },
  {
   "cell_type": "code",
   "execution_count": 29,
   "id": "686316ba-746e-4626-88d1-759c14f6ce4f",
   "metadata": {},
   "outputs": [
    {
     "data": {
      "text/plain": [
       "Inches         0.068197\n",
       "Ram            0.743007\n",
       "Weight         0.210370\n",
       "Price          1.000000\n",
       "Touchscreen    0.191226\n",
       "Ips            0.252208\n",
       "X_res          0.556529\n",
       "Y_res          0.552809\n",
       "Name: Price, dtype: float64"
      ]
     },
     "execution_count": 29,
     "metadata": {},
     "output_type": "execute_result"
    }
   ],
   "source": [
    "df.corr(numeric_only=True)['Price']"
   ]
  },
  {
   "cell_type": "code",
   "execution_count": 30,
   "id": "c90dd880-bff4-4dad-aa1c-3a27f260df27",
   "metadata": {},
   "outputs": [],
   "source": [
    "# 4. Compute Pixels Per Inch (PPI)\n",
    "\n",
    "df['ppi'] = ((df['X_res']**2 + df['Y_res']**2)**0.5 / df['Inches']).astype('float')"
   ]
  },
  {
   "cell_type": "code",
   "execution_count": 31,
   "id": "0872a330-641d-4090-bf2c-4c7abd9d2f00",
   "metadata": {},
   "outputs": [
    {
     "data": {
      "text/plain": [
       "Inches         0.068197\n",
       "Ram            0.743007\n",
       "Weight         0.210370\n",
       "Price          1.000000\n",
       "Touchscreen    0.191226\n",
       "Ips            0.252208\n",
       "X_res          0.556529\n",
       "Y_res          0.552809\n",
       "ppi            0.473487\n",
       "Name: Price, dtype: float64"
      ]
     },
     "execution_count": 31,
     "metadata": {},
     "output_type": "execute_result"
    }
   ],
   "source": [
    "df.corr(numeric_only=True)['Price']"
   ]
  },
  {
   "cell_type": "code",
   "execution_count": 32,
   "id": "d4869908-c45e-4ee8-aefd-9b6b7cc8b001",
   "metadata": {},
   "outputs": [],
   "source": [
    "df.drop(columns=['ScreenResolution'], inplace=True)"
   ]
  },
  {
   "cell_type": "code",
   "execution_count": 33,
   "id": "b4fba526-7fed-40c4-8426-d912ba292b27",
   "metadata": {},
   "outputs": [],
   "source": [
    "df.drop(columns=['Inches','X_res','Y_res'], inplace=True)"
   ]
  },
  {
   "cell_type": "markdown",
   "id": "0c2532fe-c0de-4c34-b3d9-be94ef15358e",
   "metadata": {},
   "source": [
    "### 4. CPU"
   ]
  },
  {
   "cell_type": "code",
   "execution_count": 34,
   "id": "49fea359-5e0d-4cc2-91aa-61465ac01a0e",
   "metadata": {},
   "outputs": [
    {
     "data": {
      "text/plain": [
       "Cpu\n",
       "Intel Core i5 7200U 2.5GHz       190\n",
       "Intel Core i7 7700HQ 2.8GHz      146\n",
       "Intel Core i7 7500U 2.7GHz       134\n",
       "Intel Core i7 8550U 1.8GHz        73\n",
       "Intel Core i5 8250U 1.6GHz        72\n",
       "                                ... \n",
       "Intel Core i5 7200U 2.70GHz        1\n",
       "Intel Core M M7-6Y75 1.2GHz        1\n",
       "Intel Core M 6Y54 1.1GHz           1\n",
       "AMD E-Series 9000 2.2GHz           1\n",
       "Samsung Cortex A72&A53 2.0GHz      1\n",
       "Name: count, Length: 118, dtype: int64"
      ]
     },
     "execution_count": 34,
     "metadata": {},
     "output_type": "execute_result"
    }
   ],
   "source": [
    "df['Cpu'].value_counts()"
   ]
  },
  {
   "cell_type": "code",
   "execution_count": 35,
   "id": "cd7fab67-0690-4047-8889-21222c6a9a1c",
   "metadata": {},
   "outputs": [],
   "source": [
    "# 1. CPU name\n",
    "df['Cpu Name'] = df['Cpu'].apply(lambda x: \" \".join(x.split()[0:3]))"
   ]
  },
  {
   "cell_type": "code",
   "execution_count": 36,
   "id": "6ef1a8eb-6a48-4815-808b-f9dd04aafac8",
   "metadata": {},
   "outputs": [],
   "source": [
    "# 2. Classify CPUs into categories\n",
    "def fetch_processor(text):\n",
    "    if 'Intel Core i7' in text:\n",
    "        return 'Intel Core i7'\n",
    "    elif 'Intel Core i5' in text:\n",
    "        return 'Intel Core i5'\n",
    "    elif 'Intel Core i3' in text:\n",
    "        return 'Intel Core i3'\n",
    "    elif 'Intel Celeron' in text:\n",
    "        return 'Intel Celeron'\n",
    "    elif 'Intel Pentium' in text:\n",
    "        return 'Intel Pentium'\n",
    "    elif 'AMD Ryzen' in text:\n",
    "        return 'AMD Ryzen'\n",
    "    elif 'AMD A' in text:\n",
    "        return 'AMD A'\n",
    "    elif 'AMD E' in text:\n",
    "        return 'AMD E'\n",
    "    elif 'AMD FX' in text:\n",
    "        return 'AMD FX'\n",
    "    else:\n",
    "        return 'Other'\n",
    "        \n",
    "df['Cpu Brand'] = df['Cpu'].apply(fetch_processor)\n"
   ]
  },
  {
   "cell_type": "code",
   "execution_count": 37,
   "id": "ef172780-ee86-4976-828b-7749f01237e9",
   "metadata": {},
   "outputs": [
    {
     "data": {
      "text/plain": [
       "Cpu Brand\n",
       "Intel Core i7    527\n",
       "Intel Core i5    423\n",
       "Intel Core i3    136\n",
       "Intel Celeron     88\n",
       "AMD A             47\n",
       "Other             37\n",
       "Intel Pentium     30\n",
       "AMD E              9\n",
       "AMD Ryzen          4\n",
       "AMD FX             2\n",
       "Name: count, dtype: int64"
      ]
     },
     "execution_count": 37,
     "metadata": {},
     "output_type": "execute_result"
    }
   ],
   "source": [
    "df['Cpu Brand'].value_counts()"
   ]
  },
  {
   "cell_type": "code",
   "execution_count": 38,
   "id": "cbe75246-96ee-4a41-8e8f-362d17d91abc",
   "metadata": {},
   "outputs": [
    {
     "data": {
      "image/png": "[encoded data removed]",
      "text/plain": [
       "<Figure size 400x400 with 1 Axes>"
      ]
     },
     "metadata": {},
     "output_type": "display_data"
    }
   ],
   "source": [
    "plt.figure(figsize=(4,4))\n",
    "sns.barplot(x=df['Cpu Brand'],y=df['Price'])\n",
    "plt.xticks(rotation='vertical')\n",
    "plt.show()"
   ]
  },
  {
   "cell_type": "code",
   "execution_count": 39,
   "id": "4ab3b8b3-b0b4-48ef-8fd3-c27607591760",
   "metadata": {},
   "outputs": [],
   "source": [
    "df.drop(columns=['Cpu','Cpu Brand'],inplace=True)"
   ]
  },
  {
   "cell_type": "code",
   "execution_count": 40,
   "id": "bf599be7-d138-4a32-96ed-00e273cc3d1e",
   "metadata": {},
   "outputs": [
    {
     "data": {
      "text/plain": [
       "Ram\n",
       "8     619\n",
       "4     375\n",
       "16    200\n",
       "6      41\n",
       "12     25\n",
       "2      22\n",
       "32     17\n",
       "24      3\n",
       "64      1\n",
       "Name: count, dtype: int64"
      ]
     },
     "execution_count": 40,
     "metadata": {},
     "output_type": "execute_result"
    }
   ],
   "source": [
    "df['Ram'].value_counts()"
   ]
  },
  {
   "cell_type": "code",
   "execution_count": 41,
   "id": "645cd2ec-acb9-4571-9185-03f0327faae7",
   "metadata": {},
   "outputs": [
    {
     "data": {
      "image/png": "[encoded data removed]",
      "text/plain": [
       "<Figure size 400x400 with 1 Axes>"
      ]
     },
     "metadata": {},
     "output_type": "display_data"
    }
   ],
   "source": [
    "plt.figure(figsize=(4,4))\n",
    "sns.barplot(x=df['Ram'],y=df['Price'])\n",
    "plt.xticks(rotation='vertical')\n",
    "plt.show()"
   ]
  },
  {
   "cell_type": "markdown",
   "id": "50b1ab8b-33bd-4cbd-8f84-5341cf55fb87",
   "metadata": {},
   "source": [
    "### 5. Memory"
   ]
  },
  {
   "cell_type": "code",
   "execution_count": 42,
   "id": "30a03263-ab21-4a49-8eea-4f76899c4b46",
   "metadata": {},
   "outputs": [
    {
     "data": {
      "text/plain": [
       "Memory\n",
       "256GB SSD                        412\n",
       "1TB HDD                          223\n",
       "500GB HDD                        132\n",
       "512GB SSD                        118\n",
       "128GB SSD +  1TB HDD              94\n",
       "128GB SSD                         76\n",
       "256GB SSD +  1TB HDD              73\n",
       "32GB Flash Storage                38\n",
       "2TB HDD                           16\n",
       "64GB Flash Storage                15\n",
       "1TB SSD                           14\n",
       "512GB SSD +  1TB HDD              14\n",
       "256GB SSD +  2TB HDD              10\n",
       "1.0TB Hybrid                       9\n",
       "256GB Flash Storage                8\n",
       "16GB Flash Storage                 7\n",
       "32GB SSD                           6\n",
       "180GB SSD                          5\n",
       "128GB Flash Storage                4\n",
       "16GB SSD                           3\n",
       "512GB SSD +  2TB HDD               3\n",
       "128GB SSD +  2TB HDD               2\n",
       "256GB SSD +  256GB SSD             2\n",
       "512GB Flash Storage                2\n",
       "1TB SSD +  1TB HDD                 2\n",
       "256GB SSD +  500GB HDD             2\n",
       "64GB SSD                           1\n",
       "512GB SSD +  512GB SSD             1\n",
       "64GB Flash Storage +  1TB HDD      1\n",
       "1TB HDD +  1TB HDD                 1\n",
       "512GB SSD +  256GB SSD             1\n",
       "32GB HDD                           1\n",
       "128GB HDD                          1\n",
       "240GB SSD                          1\n",
       "8GB SSD                            1\n",
       "508GB Hybrid                       1\n",
       "1.0TB HDD                          1\n",
       "512GB SSD +  1.0TB Hybrid          1\n",
       "256GB SSD +  1.0TB Hybrid          1\n",
       "Name: count, dtype: int64"
      ]
     },
     "execution_count": 42,
     "metadata": {},
     "output_type": "execute_result"
    }
   ],
   "source": [
    "df['Memory'].value_counts()"
   ]
  },
  {
   "cell_type": "code",
   "execution_count": 43,
   "id": "ffa8ee86-a831-4c61-9f1b-b12475e4990c",
   "metadata": {},
   "outputs": [],
   "source": [
    "# 1. Clean the text\n",
    "\n",
    "df['Memory'] = df['Memory'].str.replace(r'\\.0', '', regex=True)\n",
    "df['Memory'] = df['Memory'].str.replace('GB', '')\n",
    "df['Memory'] = df['Memory'].str.replace('TB', '000')\n",
    "df['Memory'] = df['Memory'].str.replace('Flash Storage', 'Flash_Storage')\n",
    "df['Memory'] = df['Memory'].str.replace('SSD', 'SSD')\n",
    "df['Memory'] = df['Memory'].str.replace('HDD', 'HDD')\n",
    "df['Memory'] = df['Memory'].str.replace('Hybrid', 'Hybrid')"
   ]
  },
  {
   "cell_type": "code",
   "execution_count": 44,
   "id": "b8e1897c-a5fe-4ea8-894d-7cda872f0e2c",
   "metadata": {},
   "outputs": [],
   "source": [
    "# 2. Handle combinations (like “256GB SSD + 1TB HDD”)\n",
    "df['Memory'] = df['Memory'].str.replace(r'\\s+', '', regex=True)\n",
    "df['Memory'] = df['Memory'].str.split('+')"
   ]
  },
  {
   "cell_type": "code",
   "execution_count": 45,
   "id": "52830201-839a-42f7-b60f-8f1b29f291f8",
   "metadata": {},
   "outputs": [],
   "source": [
    "# Initialize columns\n",
    "df['HDD'] = 0\n",
    "df['SSD'] = 0\n",
    "df['Hybrid'] = 0\n",
    "df['Flash_Storage'] = 0"
   ]
  },
  {
   "cell_type": "code",
   "execution_count": 46,
   "id": "a1307379-afbb-408e-ba33-584c833a34da",
   "metadata": {},
   "outputs": [],
   "source": [
    "# Parse each part and fill corresponding columns\n",
    "\n",
    "for i in range(len(df)):\n",
    "    for part in df['Memory'][i]:\n",
    "        if 'HDD' in part:\n",
    "            df.loc[i, 'HDD'] = int(part.replace('HDD', ''))\n",
    "        elif 'SSD' in part:\n",
    "            df.loc[i, 'SSD'] = int(part.replace('SSD', ''))\n",
    "        elif 'Hybrid' in part:\n",
    "            df.loc[i, 'Hybrid'] = int(part.replace('Hybrid', ''))\n",
    "        elif 'Flash_Storage' in part:\n",
    "            df.loc[i, 'Flash_Storage'] = int(part.replace('Flash_Storage', ''))\n"
   ]
  },
  {
   "cell_type": "code",
   "execution_count": 47,
   "id": "6aaa1d67-7189-4208-a8e1-e78fcf6fa0d7",
   "metadata": {},
   "outputs": [
    {
     "data": {
      "text/plain": [
       "Ram              0.743007\n",
       "Weight           0.210370\n",
       "Price            1.000000\n",
       "Touchscreen      0.191226\n",
       "Ips              0.252208\n",
       "ppi              0.473487\n",
       "HDD             -0.095672\n",
       "SSD              0.676250\n",
       "Hybrid           0.007989\n",
       "Flash_Storage   -0.040511\n",
       "Name: Price, dtype: float64"
      ]
     },
     "execution_count": 47,
     "metadata": {},
     "output_type": "execute_result"
    }
   ],
   "source": [
    "df.corr(numeric_only=True)['Price']"
   ]
  },
  {
   "cell_type": "code",
   "execution_count": 48,
   "id": "26083b1f-5f38-40cb-b305-f0c41f240e1a",
   "metadata": {},
   "outputs": [],
   "source": [
    "df.drop(columns=['Memory','Hybrid','Flash_Storage'], inplace=True)"
   ]
  },
  {
   "cell_type": "code",
   "execution_count": 49,
   "id": "4fc06bda-3602-45d8-9f4f-d327966ef94b",
   "metadata": {},
   "outputs": [
    {
     "data": {
      "text/html": [
       "<div>\n",
       "<style scoped>\n",
       "    .dataframe tbody tr th:only-of-type {\n",
       "        vertical-align: middle;\n",
       "    }\n",
       "\n",
       "    .dataframe tbody tr th {\n",
       "        vertical-align: top;\n",
       "    }\n",
       "\n",
       "    .dataframe thead th {\n",
       "        text-align: right;\n",
       "    }\n",
       "</style>\n",
       "<table border=\"1\" class=\"dataframe\">\n",
       "  <thead>\n",
       "    <tr style=\"text-align: right;\">\n",
       "      <th></th>\n",
       "      <th>Company</th>\n",
       "      <th>TypeName</th>\n",
       "      <th>Ram</th>\n",
       "      <th>Gpu</th>\n",
       "      <th>OpSys</th>\n",
       "      <th>Weight</th>\n",
       "      <th>Price</th>\n",
       "      <th>Touchscreen</th>\n",
       "      <th>Ips</th>\n",
       "      <th>ppi</th>\n",
       "      <th>Cpu Name</th>\n",
       "      <th>HDD</th>\n",
       "      <th>SSD</th>\n",
       "    </tr>\n",
       "  </thead>\n",
       "  <tbody>\n",
       "    <tr>\n",
       "      <th>0</th>\n",
       "      <td>Apple</td>\n",
       "      <td>Ultrabook</td>\n",
       "      <td>8</td>\n",
       "      <td>Intel Iris Plus Graphics 640</td>\n",
       "      <td>macOS</td>\n",
       "      <td>1.37</td>\n",
       "      <td>71378.6832</td>\n",
       "      <td>0</td>\n",
       "      <td>1</td>\n",
       "      <td>226.983005</td>\n",
       "      <td>Intel Core i5</td>\n",
       "      <td>0</td>\n",
       "      <td>128</td>\n",
       "    </tr>\n",
       "    <tr>\n",
       "      <th>1</th>\n",
       "      <td>Apple</td>\n",
       "      <td>Ultrabook</td>\n",
       "      <td>8</td>\n",
       "      <td>Intel HD Graphics 6000</td>\n",
       "      <td>macOS</td>\n",
       "      <td>1.34</td>\n",
       "      <td>47895.5232</td>\n",
       "      <td>0</td>\n",
       "      <td>0</td>\n",
       "      <td>127.677940</td>\n",
       "      <td>Intel Core i5</td>\n",
       "      <td>0</td>\n",
       "      <td>0</td>\n",
       "    </tr>\n",
       "    <tr>\n",
       "      <th>2</th>\n",
       "      <td>HP</td>\n",
       "      <td>Notebook</td>\n",
       "      <td>8</td>\n",
       "      <td>Intel HD Graphics 620</td>\n",
       "      <td>No OS</td>\n",
       "      <td>1.86</td>\n",
       "      <td>30636.0000</td>\n",
       "      <td>0</td>\n",
       "      <td>0</td>\n",
       "      <td>141.211998</td>\n",
       "      <td>Intel Core i5</td>\n",
       "      <td>0</td>\n",
       "      <td>256</td>\n",
       "    </tr>\n",
       "    <tr>\n",
       "      <th>3</th>\n",
       "      <td>Apple</td>\n",
       "      <td>Ultrabook</td>\n",
       "      <td>16</td>\n",
       "      <td>AMD Radeon Pro 455</td>\n",
       "      <td>macOS</td>\n",
       "      <td>1.83</td>\n",
       "      <td>135195.3360</td>\n",
       "      <td>0</td>\n",
       "      <td>1</td>\n",
       "      <td>220.534624</td>\n",
       "      <td>Intel Core i7</td>\n",
       "      <td>0</td>\n",
       "      <td>512</td>\n",
       "    </tr>\n",
       "    <tr>\n",
       "      <th>4</th>\n",
       "      <td>Apple</td>\n",
       "      <td>Ultrabook</td>\n",
       "      <td>8</td>\n",
       "      <td>Intel Iris Plus Graphics 650</td>\n",
       "      <td>macOS</td>\n",
       "      <td>1.37</td>\n",
       "      <td>96095.8080</td>\n",
       "      <td>0</td>\n",
       "      <td>1</td>\n",
       "      <td>226.983005</td>\n",
       "      <td>Intel Core i5</td>\n",
       "      <td>0</td>\n",
       "      <td>256</td>\n",
       "    </tr>\n",
       "    <tr>\n",
       "      <th>...</th>\n",
       "      <td>...</td>\n",
       "      <td>...</td>\n",
       "      <td>...</td>\n",
       "      <td>...</td>\n",
       "      <td>...</td>\n",
       "      <td>...</td>\n",
       "      <td>...</td>\n",
       "      <td>...</td>\n",
       "      <td>...</td>\n",
       "      <td>...</td>\n",
       "      <td>...</td>\n",
       "      <td>...</td>\n",
       "      <td>...</td>\n",
       "    </tr>\n",
       "    <tr>\n",
       "      <th>1298</th>\n",
       "      <td>Lenovo</td>\n",
       "      <td>2 in 1 Convertible</td>\n",
       "      <td>4</td>\n",
       "      <td>Intel HD Graphics 520</td>\n",
       "      <td>Windows 10</td>\n",
       "      <td>1.80</td>\n",
       "      <td>33992.6400</td>\n",
       "      <td>1</td>\n",
       "      <td>1</td>\n",
       "      <td>157.350512</td>\n",
       "      <td>Intel Core i7</td>\n",
       "      <td>0</td>\n",
       "      <td>128</td>\n",
       "    </tr>\n",
       "    <tr>\n",
       "      <th>1299</th>\n",
       "      <td>Lenovo</td>\n",
       "      <td>2 in 1 Convertible</td>\n",
       "      <td>16</td>\n",
       "      <td>Intel HD Graphics 520</td>\n",
       "      <td>Windows 10</td>\n",
       "      <td>1.30</td>\n",
       "      <td>79866.7200</td>\n",
       "      <td>1</td>\n",
       "      <td>1</td>\n",
       "      <td>276.053530</td>\n",
       "      <td>Intel Core i7</td>\n",
       "      <td>0</td>\n",
       "      <td>512</td>\n",
       "    </tr>\n",
       "    <tr>\n",
       "      <th>1300</th>\n",
       "      <td>Lenovo</td>\n",
       "      <td>Notebook</td>\n",
       "      <td>2</td>\n",
       "      <td>Intel HD Graphics</td>\n",
       "      <td>Windows 10</td>\n",
       "      <td>1.50</td>\n",
       "      <td>12201.1200</td>\n",
       "      <td>0</td>\n",
       "      <td>0</td>\n",
       "      <td>111.935204</td>\n",
       "      <td>Intel Celeron Dual</td>\n",
       "      <td>0</td>\n",
       "      <td>0</td>\n",
       "    </tr>\n",
       "    <tr>\n",
       "      <th>1301</th>\n",
       "      <td>HP</td>\n",
       "      <td>Notebook</td>\n",
       "      <td>6</td>\n",
       "      <td>AMD Radeon R5 M330</td>\n",
       "      <td>Windows 10</td>\n",
       "      <td>2.19</td>\n",
       "      <td>40705.9200</td>\n",
       "      <td>0</td>\n",
       "      <td>0</td>\n",
       "      <td>100.454670</td>\n",
       "      <td>Intel Core i7</td>\n",
       "      <td>1000</td>\n",
       "      <td>0</td>\n",
       "    </tr>\n",
       "    <tr>\n",
       "      <th>1302</th>\n",
       "      <td>Asus</td>\n",
       "      <td>Notebook</td>\n",
       "      <td>4</td>\n",
       "      <td>Intel HD Graphics</td>\n",
       "      <td>Windows 10</td>\n",
       "      <td>2.20</td>\n",
       "      <td>19660.3200</td>\n",
       "      <td>0</td>\n",
       "      <td>0</td>\n",
       "      <td>100.454670</td>\n",
       "      <td>Intel Celeron Dual</td>\n",
       "      <td>500</td>\n",
       "      <td>0</td>\n",
       "    </tr>\n",
       "  </tbody>\n",
       "</table>\n",
       "<p>1303 rows × 13 columns</p>\n",
       "</div>"
      ],
      "text/plain": [
       "     Company            TypeName  Ram                           Gpu  \\\n",
       "0      Apple           Ultrabook    8  Intel Iris Plus Graphics 640   \n",
       "1      Apple           Ultrabook    8        Intel HD Graphics 6000   \n",
       "2         HP            Notebook    8         Intel HD Graphics 620   \n",
       "3      Apple           Ultrabook   16            AMD Radeon Pro 455   \n",
       "4      Apple           Ultrabook    8  Intel Iris Plus Graphics 650   \n",
       "...      ...                 ...  ...                           ...   \n",
       "1298  Lenovo  2 in 1 Convertible    4         Intel HD Graphics 520   \n",
       "1299  Lenovo  2 in 1 Convertible   16         Intel HD Graphics 520   \n",
       "1300  Lenovo            Notebook    2             Intel HD Graphics   \n",
       "1301      HP            Notebook    6            AMD Radeon R5 M330   \n",
       "1302    Asus            Notebook    4             Intel HD Graphics   \n",
       "\n",
       "           OpSys  Weight        Price  Touchscreen  Ips         ppi  \\\n",
       "0          macOS    1.37   71378.6832            0    1  226.983005   \n",
       "1          macOS    1.34   47895.5232            0    0  127.677940   \n",
       "2          No OS    1.86   30636.0000            0    0  141.211998   \n",
       "3          macOS    1.83  135195.3360            0    1  220.534624   \n",
       "4          macOS    1.37   96095.8080            0    1  226.983005   \n",
       "...          ...     ...          ...          ...  ...         ...   \n",
       "1298  Windows 10    1.80   33992.6400            1    1  157.350512   \n",
       "1299  Windows 10    1.30   79866.7200            1    1  276.053530   \n",
       "1300  Windows 10    1.50   12201.1200            0    0  111.935204   \n",
       "1301  Windows 10    2.19   40705.9200            0    0  100.454670   \n",
       "1302  Windows 10    2.20   19660.3200            0    0  100.454670   \n",
       "\n",
       "                Cpu Name   HDD  SSD  \n",
       "0          Intel Core i5     0  128  \n",
       "1          Intel Core i5     0    0  \n",
       "2          Intel Core i5     0  256  \n",
       "3          Intel Core i7     0  512  \n",
       "4          Intel Core i5     0  256  \n",
       "...                  ...   ...  ...  \n",
       "1298       Intel Core i7     0  128  \n",
       "1299       Intel Core i7     0  512  \n",
       "1300  Intel Celeron Dual     0    0  \n",
       "1301       Intel Core i7  1000    0  \n",
       "1302  Intel Celeron Dual   500    0  \n",
       "\n",
       "[1303 rows x 13 columns]"
      ]
     },
     "execution_count": 49,
     "metadata": {},
     "output_type": "execute_result"
    }
   ],
   "source": [
    "df"
   ]
  },
  {
   "cell_type": "markdown",
   "id": "aecb0e69-3371-46e9-ab26-3ecc863dee81",
   "metadata": {},
   "source": [
    "### 6. GPU"
   ]
  },
  {
   "cell_type": "code",
   "execution_count": 50,
   "id": "e826efdf-dc96-417b-952e-c33de0dafda0",
   "metadata": {},
   "outputs": [
    {
     "data": {
      "text/plain": [
       "Gpu\n",
       "Intel HD Graphics 620      281\n",
       "Intel HD Graphics 520      185\n",
       "Intel UHD Graphics 620      68\n",
       "Nvidia GeForce GTX 1050     66\n",
       "Nvidia GeForce GTX 1060     48\n",
       "                          ... \n",
       "Nvidia Quadro M500M          1\n",
       "AMD Radeon R7 M360           1\n",
       "Nvidia Quadro M3000M         1\n",
       "Nvidia GeForce 960M          1\n",
       "ARM Mali T860 MP4            1\n",
       "Name: count, Length: 110, dtype: int64"
      ]
     },
     "execution_count": 50,
     "metadata": {},
     "output_type": "execute_result"
    }
   ],
   "source": [
    "df['Gpu'].value_counts()"
   ]
  },
  {
   "cell_type": "code",
   "execution_count": 51,
   "id": "6e52ae14-df32-4f28-8ceb-54bfdbd87d81",
   "metadata": {},
   "outputs": [],
   "source": [
    "# 1. Extract GPU Brand\n",
    "df['Gpu_Brand'] = df['Gpu'].apply(lambda x: x.split()[0])"
   ]
  },
  {
   "cell_type": "code",
   "execution_count": 52,
   "id": "131a32f8-b754-408d-b767-9605abd9e340",
   "metadata": {},
   "outputs": [],
   "source": [
    "# 2. keep only the main 3 brands and group others as “Other”:\n",
    "df['Gpu_Brand'] = df['Gpu_Brand'].replace({'Nvidia': 'Nvidia', \n",
    "                                           'AMD': 'AMD', \n",
    "                                           'Intel': 'Intel'})\n",
    "df.loc[~df['Gpu_Brand'].isin(['Intel', 'AMD', 'Nvidia']), 'Gpu_Brand'] = 'Other'\n"
   ]
  },
  {
   "cell_type": "code",
   "execution_count": 53,
   "id": "56545114-ef03-4267-992e-120401e1d1b7",
   "metadata": {},
   "outputs": [],
   "source": [
    "df.drop(columns=['Gpu'], inplace=True)\n"
   ]
  },
  {
   "cell_type": "code",
   "execution_count": 54,
   "id": "c7068630-2104-4b7f-8e4d-e0886b15df9a",
   "metadata": {},
   "outputs": [
    {
     "data": {
      "text/plain": [
       "Ram            0.743007\n",
       "Weight         0.210370\n",
       "Price          1.000000\n",
       "Touchscreen    0.191226\n",
       "Ips            0.252208\n",
       "ppi            0.473487\n",
       "HDD           -0.095672\n",
       "SSD            0.676250\n",
       "Name: Price, dtype: float64"
      ]
     },
     "execution_count": 54,
     "metadata": {},
     "output_type": "execute_result"
    }
   ],
   "source": [
    "df.corr(numeric_only=True)['Price']"
   ]
  },
  {
   "cell_type": "markdown",
   "id": "cf21abbe-1e4f-4b69-a2f0-cd00f4081061",
   "metadata": {},
   "source": [
    "### 7. OpSystem"
   ]
  },
  {
   "cell_type": "code",
   "execution_count": 55,
   "id": "9ef90d62-50c4-4743-b843-80cedf6c057a",
   "metadata": {},
   "outputs": [
    {
     "data": {
      "text/plain": [
       "OpSys\n",
       "Windows 10      1072\n",
       "No OS             66\n",
       "Linux             62\n",
       "Windows 7         45\n",
       "Chrome OS         27\n",
       "macOS             13\n",
       "Mac OS X           8\n",
       "Windows 10 S       8\n",
       "Android            2\n",
       "Name: count, dtype: int64"
      ]
     },
     "execution_count": 55,
     "metadata": {},
     "output_type": "execute_result"
    }
   ],
   "source": [
    "df['OpSys'].value_counts()"
   ]
  },
  {
   "cell_type": "code",
   "execution_count": 56,
   "id": "ded9c394-73da-42cf-b60f-2d6970459d96",
   "metadata": {},
   "outputs": [],
   "source": [
    "# Simplify OS categories\n",
    "df['OpSys'] = df['OpSys'].replace({\n",
    "    'Windows 10': 'Windows',\n",
    "    'Windows 7': 'Windows',\n",
    "    'Windows 10 S': 'Windows',\n",
    "    'macOS': 'Mac',\n",
    "    'Mac OS X': 'Mac',\n",
    "    'Linux': 'Linux',\n",
    "    'Chrome OS': 'Chrome',\n",
    "    'No OS': 'No OS',\n",
    "    'Android': 'Android'\n",
    "})\n"
   ]
  },
  {
   "cell_type": "code",
   "execution_count": 57,
   "id": "aa430254-584d-49db-a0ce-47bdf09e6cc2",
   "metadata": {},
   "outputs": [
    {
     "data": {
      "text/plain": [
       "OpSys\n",
       "Windows    1125\n",
       "No OS        66\n",
       "Linux        62\n",
       "Chrome       27\n",
       "Mac          21\n",
       "Android       2\n",
       "Name: count, dtype: int64"
      ]
     },
     "execution_count": 57,
     "metadata": {},
     "output_type": "execute_result"
    }
   ],
   "source": [
    "df['OpSys'].value_counts()\n"
   ]
  },
  {
   "cell_type": "code",
   "execution_count": 58,
   "id": "e4188592-2248-4074-9030-b977fc848060",
   "metadata": {},
   "outputs": [
    {
     "data": {
      "image/png": "[encoded data removed]",
      "text/plain": [
       "<Figure size 400x400 with 1 Axes>"
      ]
     },
     "metadata": {},
     "output_type": "display_data"
    }
   ],
   "source": [
    "plt.figure(figsize=(4,4))\n",
    "sns.barplot(x=df['OpSys'],y=df['Price'])\n",
    "plt.xticks(rotation='vertical')\n",
    "plt.show()"
   ]
  },
  {
   "cell_type": "code",
   "execution_count": 59,
   "id": "f67381d3-087b-421b-993a-08aa0a1e910f",
   "metadata": {},
   "outputs": [
    {
     "data": {
      "text/plain": [
       "<Axes: >"
      ]
     },
     "execution_count": 59,
     "metadata": {},
     "output_type": "execute_result"
    },
    {
     "data": {
      "image/png": "[encoded data removed]",
      "text/plain": [
       "<Figure size 640x480 with 2 Axes>"
      ]
     },
     "metadata": {},
     "output_type": "display_data"
    }
   ],
   "source": [
    "sns.heatmap(df.corr(numeric_only=True),annot=True)"
   ]
  },
  {
   "cell_type": "code",
   "execution_count": 60,
   "id": "63a5f930-5afb-437b-9ebe-85f672c78148",
   "metadata": {},
   "outputs": [
    {
     "name": "stderr",
     "output_type": "stream",
     "text": [
      "C:\\Users\\Jay Sunil Sonawane\\AppData\\Local\\Temp\\ipykernel_24848\\834922981.py:1: UserWarning: \n",
      "\n",
      "`distplot` is a deprecated function and will be removed in seaborn v0.14.0.\n",
      "\n",
      "Please adapt your code to use either `displot` (a figure-level function with\n",
      "similar flexibility) or `histplot` (an axes-level function for histograms).\n",
      "\n",
      "For a guide to updating your code to use the new functions, please see\n",
      "https://gist.github.com/mwaskom/de44147ed2974457ad6372750bbe5751\n",
      "\n",
      "  sns.distplot(df['Price'])\n"
     ]
    },
    {
     "data": {
      "text/plain": [
       "<Axes: xlabel='Price', ylabel='Density'>"
      ]
     },
     "execution_count": 60,
     "metadata": {},
     "output_type": "execute_result"
    },
    {
     "data": {
      "image/png": "[encoded data removed]",
      "text/plain": [
       "<Figure size 640x480 with 1 Axes>"
      ]
     },
     "metadata": {},
     "output_type": "display_data"
    }
   ],
   "source": [
    "sns.distplot(df['Price'])"
   ]
  },
  {
   "cell_type": "code",
   "execution_count": 61,
   "id": "030e7b30-cdfa-42b6-aa5e-227051a00dad",
   "metadata": {},
   "outputs": [
    {
     "name": "stderr",
     "output_type": "stream",
     "text": [
      "C:\\Users\\Jay Sunil Sonawane\\AppData\\Local\\Temp\\ipykernel_24848\\2059624834.py:3: UserWarning: \n",
      "\n",
      "`distplot` is a deprecated function and will be removed in seaborn v0.14.0.\n",
      "\n",
      "Please adapt your code to use either `displot` (a figure-level function with\n",
      "similar flexibility) or `histplot` (an axes-level function for histograms).\n",
      "\n",
      "For a guide to updating your code to use the new functions, please see\n",
      "https://gist.github.com/mwaskom/de44147ed2974457ad6372750bbe5751\n",
      "\n",
      "  sns.distplot(np.log(df['Price']))\n"
     ]
    },
    {
     "data": {
      "text/plain": [
       "<Axes: xlabel='Price', ylabel='Density'>"
      ]
     },
     "execution_count": 61,
     "metadata": {},
     "output_type": "execute_result"
    },
    {
     "data": {
      "image/png": "[encoded data removed]",
      "text/plain": [
       "<Figure size 640x480 with 1 Axes>"
      ]
     },
     "metadata": {},
     "output_type": "display_data"
    }
   ],
   "source": [
    "# as it is skewed we will apply log transformation\n",
    "\n",
    "sns.distplot(np.log(df['Price']))"
   ]
  },
  {
   "cell_type": "code",
   "execution_count": 62,
   "id": "8c19f963-5cde-4a45-897f-652122950cc7",
   "metadata": {},
   "outputs": [],
   "source": [
    "X = df.drop(columns=['Price'])\n",
    "y = np.log(df['Price'])"
   ]
  },
  {
   "cell_type": "code",
   "execution_count": 63,
   "id": "8c508c30-aea6-479c-a03d-2a29f950918d",
   "metadata": {},
   "outputs": [],
   "source": [
    "# Split data\n",
    "from sklearn.model_selection import train_test_split\n",
    "\n",
    "X_train, X_test, y_train, y_test = train_test_split(X, y, test_size=0.15, random_state=2)"
   ]
  },
  {
   "cell_type": "code",
   "execution_count": 64,
   "id": "6cfd6fa5-1158-401b-9619-00f0447a9b92",
   "metadata": {},
   "outputs": [],
   "source": [
    "# categorical to numerical\n",
    "\n",
    "from sklearn.compose import ColumnTransformer\n",
    "from sklearn.pipeline import Pipeline\n",
    "from sklearn.preprocessing import OneHotEncoder, StandardScaler, MinMaxScaler"
   ]
  },
  {
   "cell_type": "code",
   "execution_count": 65,
   "id": "83e22cd3-21d6-498b-9119-3d146367bbd4",
   "metadata": {},
   "outputs": [],
   "source": [
    "from sklearn.linear_model import LinearRegression, Ridge, Lasso, ElasticNet\n",
    "from sklearn.tree import DecisionTreeRegressor\n",
    "from sklearn.ensemble import RandomForestRegressor, GradientBoostingRegressor, AdaBoostRegressor\n",
    "from sklearn.svm import SVR\n",
    "from sklearn.neighbors import KNeighborsRegressor\n",
    "from xgboost import XGBRegressor\n",
    "from sklearn.metrics import r2_score, mean_squared_error, mean_absolute_error"
   ]
  },
  {
   "cell_type": "code",
   "execution_count": 66,
   "id": "6299f2a3-daa6-4c94-a7f3-60a7679b0cf2",
   "metadata": {},
   "outputs": [
    {
     "name": "stdout",
     "output_type": "stream",
     "text": [
      "R2 Score on test data is 0.85\n",
      "Mean square error is 0.06\n",
      "Mean absolute error is 0.19\n"
     ]
    },
    {
     "name": "stderr",
     "output_type": "stream",
     "text": [
      "C:\\Users\\Jay Sunil Sonawane\\anaconda3\\envs\\dsml_40_env1\\lib\\site-packages\\sklearn\\preprocessing\\_encoders.py:246: UserWarning: Found unknown categories in columns [3] during transform. These unknown categories will be encoded as all zeros\n",
      "  warnings.warn(\n"
     ]
    }
   ],
   "source": [
    "column_trans = ColumnTransformer([\n",
    "    ('cat_tnf', OneHotEncoder(sparse_output=False,drop='first',handle_unknown='ignore'),['Company','TypeName','OpSys','Cpu Name','Gpu_Brand'])\n",
    "],remainder='passthrough')\n",
    "\n",
    "model = LinearRegression()\n",
    "\n",
    "pipe = Pipeline([\n",
    "    ('column_trans',column_trans),\n",
    "    ('model',model)\n",
    "])\n",
    "\n",
    "pipe.fit(X_train,y_train)\n",
    "\n",
    "y_pred = pipe.predict(X_test)\n",
    "\n",
    "print('R2 Score on test data is',round(r2_score(y_test,y_pred),2))\n",
    "print('Mean square error is',round(mean_squared_error(y_test,y_pred),2))\n",
    "print('Mean absolute error is',round(mean_absolute_error(y_test,y_pred),2))"
   ]
  },
  {
   "cell_type": "code",
   "execution_count": 68,
   "id": "240af33a-297d-49cb-9e6c-673319cc2bed",
   "metadata": {},
   "outputs": [
    {
     "name": "stderr",
     "output_type": "stream",
     "text": [
      "C:\\Users\\Jay Sunil Sonawane\\anaconda3\\envs\\dsml_40_env1\\lib\\site-packages\\sklearn\\preprocessing\\_encoders.py:246: UserWarning: Found unknown categories in columns [3] during transform. These unknown categories will be encoded as all zeros\n",
      "  warnings.warn(\n",
      "C:\\Users\\Jay Sunil Sonawane\\anaconda3\\envs\\dsml_40_env1\\lib\\site-packages\\sklearn\\preprocessing\\_encoders.py:246: UserWarning: Found unknown categories in columns [3] during transform. These unknown categories will be encoded as all zeros\n",
      "  warnings.warn(\n",
      "C:\\Users\\Jay Sunil Sonawane\\anaconda3\\envs\\dsml_40_env1\\lib\\site-packages\\sklearn\\preprocessing\\_encoders.py:246: UserWarning: Found unknown categories in columns [3] during transform. These unknown categories will be encoded as all zeros\n",
      "  warnings.warn(\n",
      "C:\\Users\\Jay Sunil Sonawane\\anaconda3\\envs\\dsml_40_env1\\lib\\site-packages\\sklearn\\preprocessing\\_encoders.py:246: UserWarning: Found unknown categories in columns [3] during transform. These unknown categories will be encoded as all zeros\n",
      "  warnings.warn(\n",
      "C:\\Users\\Jay Sunil Sonawane\\anaconda3\\envs\\dsml_40_env1\\lib\\site-packages\\sklearn\\preprocessing\\_encoders.py:246: UserWarning: Found unknown categories in columns [3] during transform. These unknown categories will be encoded as all zeros\n",
      "  warnings.warn(\n",
      "C:\\Users\\Jay Sunil Sonawane\\anaconda3\\envs\\dsml_40_env1\\lib\\site-packages\\sklearn\\preprocessing\\_encoders.py:246: UserWarning: Found unknown categories in columns [3] during transform. These unknown categories will be encoded as all zeros\n",
      "  warnings.warn(\n",
      "C:\\Users\\Jay Sunil Sonawane\\anaconda3\\envs\\dsml_40_env1\\lib\\site-packages\\sklearn\\preprocessing\\_encoders.py:246: UserWarning: Found unknown categories in columns [3] during transform. These unknown categories will be encoded as all zeros\n",
      "  warnings.warn(\n"
     ]
    },
    {
     "name": "stdout",
     "output_type": "stream",
     "text": [
      "              Model  R2 Score   MSE   MAE\n",
      "5      RandomForest      0.89  0.04  0.16\n",
      "0  LinearRegression      0.85  0.06  0.19\n",
      "1             Ridge      0.85  0.06  0.20\n",
      "6  GradientBoosting      0.85  0.06  0.19\n",
      "7          AdaBoost      0.80  0.08  0.23\n",
      "4      DecisionTree      0.79  0.08  0.21\n",
      "8               SVR      0.67  0.12  0.28\n",
      "3        ElasticNet      0.56  0.17  0.32\n",
      "2             Lasso      0.53  0.18  0.33\n"
     ]
    },
    {
     "name": "stderr",
     "output_type": "stream",
     "text": [
      "C:\\Users\\Jay Sunil Sonawane\\anaconda3\\envs\\dsml_40_env1\\lib\\site-packages\\sklearn\\preprocessing\\_encoders.py:246: UserWarning: Found unknown categories in columns [3] during transform. These unknown categories will be encoded as all zeros\n",
      "  warnings.warn(\n",
      "C:\\Users\\Jay Sunil Sonawane\\anaconda3\\envs\\dsml_40_env1\\lib\\site-packages\\sklearn\\preprocessing\\_encoders.py:246: UserWarning: Found unknown categories in columns [3] during transform. These unknown categories will be encoded as all zeros\n",
      "  warnings.warn(\n"
     ]
    }
   ],
   "source": [
    "# Column transformer (same as yours)\n",
    "column_trans = ColumnTransformer([\n",
    "    ('cat_tnf', OneHotEncoder(sparse_output=False, drop='first',handle_unknown='ignore'),\n",
    "     ['Company', 'TypeName', 'OpSys', 'Cpu Name', 'Gpu_Brand'])\n",
    "], remainder='passthrough')\n",
    "\n",
    "# List of models to compare\n",
    "models = {\n",
    "    'LinearRegression': LinearRegression(),\n",
    "    'Ridge': Ridge(),\n",
    "    'Lasso': Lasso(),\n",
    "    'ElasticNet': ElasticNet(),\n",
    "    'DecisionTree': DecisionTreeRegressor(),\n",
    "    'RandomForest': RandomForestRegressor(),\n",
    "    'GradientBoosting': GradientBoostingRegressor(),\n",
    "    'AdaBoost': AdaBoostRegressor(),\n",
    "    'SVR': SVR()\n",
    "}\n",
    "\n",
    "# Loop through models and evaluate\n",
    "results = []\n",
    "for name, model in models.items():\n",
    "    pipe = Pipeline([\n",
    "        ('column_trans', column_trans),\n",
    "        ('model', model)\n",
    "    ])\n",
    "    pipe.fit(X_train, y_train)\n",
    "    y_pred = pipe.predict(X_test)\n",
    "    \n",
    "    r2_test = round(r2_score(y_test, y_pred),2)\n",
    "    mse = round(mean_squared_error(y_test, y_pred),2)\n",
    "    mae = round(mean_absolute_error(y_test, y_pred),2)\n",
    "    \n",
    "    results.append({'Model': name, 'R2 Score': r2_test, 'MSE': mse, 'MAE': mae})\n",
    "\n",
    "# Show results\n",
    "results_df = pd.DataFrame(results).sort_values(by='R2 Score', ascending=False)\n",
    "print(results_df)"
   ]
  },
  {
   "cell_type": "markdown",
   "id": "e9d386b9-6c35-445c-a119-f694c542469c",
   "metadata": {},
   "source": [
    "### Random Forest"
   ]
  },
  {
   "cell_type": "code",
   "execution_count": 69,
   "id": "6def6476-55c7-4c42-9f5e-846348921472",
   "metadata": {},
   "outputs": [
    {
     "name": "stdout",
     "output_type": "stream",
     "text": [
      "Fitting 5 folds for each of 240 candidates, totalling 1200 fits\n",
      "Best Parameters: {'model__max_depth': 6, 'model__min_samples_leaf': 3, 'model__n_estimators': 175}\n",
      "R2 Score on test data is 0.84\n",
      "Mean square error is 0.06\n",
      "Mean absolute error is 0.19\n"
     ]
    },
    {
     "name": "stderr",
     "output_type": "stream",
     "text": [
      "C:\\Users\\Jay Sunil Sonawane\\anaconda3\\envs\\dsml_40_env1\\lib\\site-packages\\sklearn\\preprocessing\\_encoders.py:246: UserWarning: Found unknown categories in columns [3] during transform. These unknown categories will be encoded as all zeros\n",
      "  warnings.warn(\n"
     ]
    }
   ],
   "source": [
    "from sklearn.model_selection import GridSearchCV\n",
    "\n",
    "# Column transformer\n",
    "column_trans = ColumnTransformer([\n",
    "    ('cat_tnf', OneHotEncoder(sparse_output=False, drop='first', handle_unknown='ignore'),\n",
    "     ['Company','TypeName','OpSys','Cpu Name','Gpu_Brand'])\n",
    "], remainder='passthrough')\n",
    "\n",
    "# Pipeline\n",
    "pipe = Pipeline([\n",
    "    ('column_trans', column_trans),\n",
    "    ('model', RandomForestRegressor(random_state=1))\n",
    "])\n",
    "\n",
    "# Parameter grid (prefix with 'model__' because it's inside the pipeline)\n",
    "params = {\n",
    "    'model__max_depth': range(1, 7),\n",
    "    'model__min_samples_leaf': range(1, 6),\n",
    "    'model__n_estimators': range(25, 201, 25)\n",
    "}\n",
    "\n",
    "# Grid Search\n",
    "grid_cv_rf = GridSearchCV(estimator=pipe,\n",
    "                          param_grid=params,\n",
    "                          cv=5,\n",
    "                          verbose=3,\n",
    "                          n_jobs=-1)\n",
    "\n",
    "# Fit\n",
    "grid_cv_rf.fit(X_train, y_train)\n",
    "\n",
    "# Predict\n",
    "y_pred = grid_cv_rf.predict(X_test)\n",
    "\n",
    "# Metrics\n",
    "print('Best Parameters:', grid_cv_rf.best_params_)\n",
    "print('R2 Score on test data is', round(r2_score(y_test, y_pred), 2))\n",
    "print('Mean square error is', round(mean_squared_error(y_test, y_pred), 2))\n",
    "print('Mean absolute error is', round(mean_absolute_error(y_test, y_pred), 2))\n"
   ]
  },
  {
   "cell_type": "markdown",
   "id": "66aa2be2-0816-4e9c-9142-dec654e7f556",
   "metadata": {},
   "source": [
    "### Random Forest with default parameters\n"
   ]
  },
  {
   "cell_type": "code",
   "execution_count": 72,
   "id": "029cbd43-cb63-4bbc-9e7b-f919973afefd",
   "metadata": {},
   "outputs": [
    {
     "name": "stdout",
     "output_type": "stream",
     "text": [
      "R2 Score on test data is 0.89\n",
      "Mean square error is 0.04\n",
      "Mean absolute error is 0.16\n"
     ]
    },
    {
     "name": "stderr",
     "output_type": "stream",
     "text": [
      "C:\\Users\\Jay Sunil Sonawane\\anaconda3\\envs\\dsml_40_env1\\lib\\site-packages\\sklearn\\preprocessing\\_encoders.py:246: UserWarning: Found unknown categories in columns [3] during transform. These unknown categories will be encoded as all zeros\n",
      "  warnings.warn(\n"
     ]
    }
   ],
   "source": [
    "# Column transformer\n",
    "column_trans = ColumnTransformer([\n",
    "    ('cat_tnf', OneHotEncoder(sparse_output=False, drop='first', handle_unknown='ignore'),\n",
    "     ['Company', 'TypeName', 'OpSys', 'Cpu Name', 'Gpu_Brand'])\n",
    "], remainder='passthrough')\n",
    "\n",
    "# Pipeline with default Random Forest\n",
    "pipe1 = Pipeline([\n",
    "    ('column_trans', column_trans),\n",
    "    ('model', RandomForestRegressor(random_state=1))\n",
    "])\n",
    "\n",
    "# Fit\n",
    "pipe1.fit(X_train, y_train)\n",
    "\n",
    "# Predict\n",
    "y_pred = pipe1.predict(X_test)\n",
    "\n",
    "# Metrics\n",
    "print('R2 Score on test data is', round(r2_score(y_test, y_pred), 2))\n",
    "print('Mean square error is', round(mean_squared_error(y_test, y_pred), 2))\n",
    "print('Mean absolute error is', round(mean_absolute_error(y_test, y_pred), 2))"
   ]
  },
  {
   "cell_type": "code",
   "execution_count": 73,
   "id": "6550799f-a972-4f8f-8c56-66863e71bf78",
   "metadata": {},
   "outputs": [],
   "source": [
    "import pickle\n",
    "\n",
    "pickle.dump(df,open('df.pkl','wb'))\n",
    "pickle.dump(pipe1,open('pipe1.pkl','wb'))"
   ]
  },
  {
   "cell_type": "code",
   "execution_count": 74,
   "id": "7a0a895e-b79e-41c0-8443-a406b7c65295",
   "metadata": {},
   "outputs": [
    {
     "data": {
      "text/plain": [
       "Index(['Company', 'TypeName', 'Ram', 'OpSys', 'Weight', 'Touchscreen', 'Ips',\n",
       "       'ppi', 'Cpu Name', 'HDD', 'SSD', 'Gpu_Brand'],\n",
       "      dtype='object')"
      ]
     },
     "execution_count": 74,
     "metadata": {},
     "output_type": "execute_result"
    }
   ],
   "source": [
    "X_train.columns"
   ]
  },
  {
   "cell_type": "code",
   "execution_count": 76,
   "id": "8cf42519-1b81-480b-bafc-ed66286e94b3",
   "metadata": {},
   "outputs": [
    {
     "data": {
      "text/plain": [
       "Company\n",
       "Dell         297\n",
       "Lenovo       297\n",
       "HP           274\n",
       "Asus         158\n",
       "Acer         103\n",
       "MSI           54\n",
       "Toshiba       48\n",
       "Apple         21\n",
       "Samsung        9\n",
       "Mediacom       7\n",
       "Razer          7\n",
       "Microsoft      6\n",
       "Vero           4\n",
       "Xiaomi         4\n",
       "Chuwi          3\n",
       "Fujitsu        3\n",
       "Google         3\n",
       "LG             3\n",
       "Huawei         2\n",
       "Name: count, dtype: int64"
      ]
     },
     "execution_count": 76,
     "metadata": {},
     "output_type": "execute_result"
    }
   ],
   "source": [
    "df['Company'].value_counts()"
   ]
  },
  {
   "cell_type": "code",
   "execution_count": 78,
   "id": "3b7c9b29-b827-49f0-87a8-6060ed45c1d7",
   "metadata": {},
   "outputs": [
    {
     "name": "stdout",
     "output_type": "stream",
     "text": [
      "✅ Model saved successfully!\n"
     ]
    }
   ],
   "source": [
    "import joblib\n",
    "\n",
    "joblib.dump(pipe1, 'laptop_model.pkl')\n",
    "print(\"✅ Model saved successfully!\")\n"
   ]
  },
  {
   "cell_type": "code",
   "execution_count": 79,
   "id": "e7624538-8812-4535-8a12-3b8be257505c",
   "metadata": {},
   "outputs": [
    {
     "data": {
      "text/html": [
       "<div>\n",
       "<style scoped>\n",
       "    .dataframe tbody tr th:only-of-type {\n",
       "        vertical-align: middle;\n",
       "    }\n",
       "\n",
       "    .dataframe tbody tr th {\n",
       "        vertical-align: top;\n",
       "    }\n",
       "\n",
       "    .dataframe thead th {\n",
       "        text-align: right;\n",
       "    }\n",
       "</style>\n",
       "<table border=\"1\" class=\"dataframe\">\n",
       "  <thead>\n",
       "    <tr style=\"text-align: right;\">\n",
       "      <th></th>\n",
       "      <th>Company</th>\n",
       "      <th>TypeName</th>\n",
       "      <th>Ram</th>\n",
       "      <th>OpSys</th>\n",
       "      <th>Weight</th>\n",
       "      <th>Touchscreen</th>\n",
       "      <th>Ips</th>\n",
       "      <th>ppi</th>\n",
       "      <th>Cpu Name</th>\n",
       "      <th>HDD</th>\n",
       "      <th>SSD</th>\n",
       "      <th>Gpu_Brand</th>\n",
       "    </tr>\n",
       "  </thead>\n",
       "  <tbody>\n",
       "    <tr>\n",
       "      <th>183</th>\n",
       "      <td>Toshiba</td>\n",
       "      <td>Notebook</td>\n",
       "      <td>8</td>\n",
       "      <td>Windows</td>\n",
       "      <td>2.00</td>\n",
       "      <td>0</td>\n",
       "      <td>0</td>\n",
       "      <td>100.454670</td>\n",
       "      <td>Intel Core i5</td>\n",
       "      <td>0</td>\n",
       "      <td>128</td>\n",
       "      <td>Intel</td>\n",
       "    </tr>\n",
       "    <tr>\n",
       "      <th>699</th>\n",
       "      <td>HP</td>\n",
       "      <td>Notebook</td>\n",
       "      <td>4</td>\n",
       "      <td>Windows</td>\n",
       "      <td>2.10</td>\n",
       "      <td>0</td>\n",
       "      <td>1</td>\n",
       "      <td>141.211998</td>\n",
       "      <td>Intel Core i7</td>\n",
       "      <td>500</td>\n",
       "      <td>0</td>\n",
       "      <td>AMD</td>\n",
       "    </tr>\n",
       "    <tr>\n",
       "      <th>419</th>\n",
       "      <td>Lenovo</td>\n",
       "      <td>Ultrabook</td>\n",
       "      <td>8</td>\n",
       "      <td>Windows</td>\n",
       "      <td>1.75</td>\n",
       "      <td>0</td>\n",
       "      <td>1</td>\n",
       "      <td>157.350512</td>\n",
       "      <td>Intel Core i7</td>\n",
       "      <td>0</td>\n",
       "      <td>256</td>\n",
       "      <td>AMD</td>\n",
       "    </tr>\n",
       "    <tr>\n",
       "      <th>997</th>\n",
       "      <td>Acer</td>\n",
       "      <td>Notebook</td>\n",
       "      <td>4</td>\n",
       "      <td>Windows</td>\n",
       "      <td>2.40</td>\n",
       "      <td>0</td>\n",
       "      <td>0</td>\n",
       "      <td>100.454670</td>\n",
       "      <td>Intel Pentium Quad</td>\n",
       "      <td>500</td>\n",
       "      <td>0</td>\n",
       "      <td>Intel</td>\n",
       "    </tr>\n",
       "    <tr>\n",
       "      <th>502</th>\n",
       "      <td>Lenovo</td>\n",
       "      <td>2 in 1 Convertible</td>\n",
       "      <td>8</td>\n",
       "      <td>Windows</td>\n",
       "      <td>1.40</td>\n",
       "      <td>1</td>\n",
       "      <td>1</td>\n",
       "      <td>158.482530</td>\n",
       "      <td>Intel Core i5</td>\n",
       "      <td>0</td>\n",
       "      <td>256</td>\n",
       "      <td>Intel</td>\n",
       "    </tr>\n",
       "    <tr>\n",
       "      <th>...</th>\n",
       "      <td>...</td>\n",
       "      <td>...</td>\n",
       "      <td>...</td>\n",
       "      <td>...</td>\n",
       "      <td>...</td>\n",
       "      <td>...</td>\n",
       "      <td>...</td>\n",
       "      <td>...</td>\n",
       "      <td>...</td>\n",
       "      <td>...</td>\n",
       "      <td>...</td>\n",
       "      <td>...</td>\n",
       "    </tr>\n",
       "    <tr>\n",
       "      <th>466</th>\n",
       "      <td>Acer</td>\n",
       "      <td>Notebook</td>\n",
       "      <td>4</td>\n",
       "      <td>Windows</td>\n",
       "      <td>2.20</td>\n",
       "      <td>0</td>\n",
       "      <td>0</td>\n",
       "      <td>100.454670</td>\n",
       "      <td>Intel Core i3</td>\n",
       "      <td>500</td>\n",
       "      <td>0</td>\n",
       "      <td>Nvidia</td>\n",
       "    </tr>\n",
       "    <tr>\n",
       "      <th>299</th>\n",
       "      <td>Asus</td>\n",
       "      <td>Ultrabook</td>\n",
       "      <td>16</td>\n",
       "      <td>Windows</td>\n",
       "      <td>1.63</td>\n",
       "      <td>0</td>\n",
       "      <td>0</td>\n",
       "      <td>141.211998</td>\n",
       "      <td>Intel Core i7</td>\n",
       "      <td>0</td>\n",
       "      <td>512</td>\n",
       "      <td>Nvidia</td>\n",
       "    </tr>\n",
       "    <tr>\n",
       "      <th>493</th>\n",
       "      <td>Acer</td>\n",
       "      <td>Notebook</td>\n",
       "      <td>8</td>\n",
       "      <td>Windows</td>\n",
       "      <td>2.20</td>\n",
       "      <td>0</td>\n",
       "      <td>0</td>\n",
       "      <td>100.454670</td>\n",
       "      <td>AMD A10-Series 9620P</td>\n",
       "      <td>1000</td>\n",
       "      <td>0</td>\n",
       "      <td>AMD</td>\n",
       "    </tr>\n",
       "    <tr>\n",
       "      <th>527</th>\n",
       "      <td>Lenovo</td>\n",
       "      <td>Notebook</td>\n",
       "      <td>8</td>\n",
       "      <td>No OS</td>\n",
       "      <td>2.20</td>\n",
       "      <td>0</td>\n",
       "      <td>0</td>\n",
       "      <td>100.454670</td>\n",
       "      <td>Intel Core i3</td>\n",
       "      <td>2000</td>\n",
       "      <td>0</td>\n",
       "      <td>Nvidia</td>\n",
       "    </tr>\n",
       "    <tr>\n",
       "      <th>1192</th>\n",
       "      <td>HP</td>\n",
       "      <td>Notebook</td>\n",
       "      <td>4</td>\n",
       "      <td>Windows</td>\n",
       "      <td>1.86</td>\n",
       "      <td>0</td>\n",
       "      <td>0</td>\n",
       "      <td>100.454670</td>\n",
       "      <td>Intel Core i5</td>\n",
       "      <td>500</td>\n",
       "      <td>0</td>\n",
       "      <td>Intel</td>\n",
       "    </tr>\n",
       "  </tbody>\n",
       "</table>\n",
       "<p>1107 rows × 12 columns</p>\n",
       "</div>"
      ],
      "text/plain": [
       "      Company            TypeName  Ram    OpSys  Weight  Touchscreen  Ips  \\\n",
       "183   Toshiba            Notebook    8  Windows    2.00            0    0   \n",
       "699        HP            Notebook    4  Windows    2.10            0    1   \n",
       "419    Lenovo           Ultrabook    8  Windows    1.75            0    1   \n",
       "997      Acer            Notebook    4  Windows    2.40            0    0   \n",
       "502    Lenovo  2 in 1 Convertible    8  Windows    1.40            1    1   \n",
       "...       ...                 ...  ...      ...     ...          ...  ...   \n",
       "466      Acer            Notebook    4  Windows    2.20            0    0   \n",
       "299      Asus           Ultrabook   16  Windows    1.63            0    0   \n",
       "493      Acer            Notebook    8  Windows    2.20            0    0   \n",
       "527    Lenovo            Notebook    8    No OS    2.20            0    0   \n",
       "1192       HP            Notebook    4  Windows    1.86            0    0   \n",
       "\n",
       "             ppi              Cpu Name   HDD  SSD Gpu_Brand  \n",
       "183   100.454670         Intel Core i5     0  128     Intel  \n",
       "699   141.211998         Intel Core i7   500    0       AMD  \n",
       "419   157.350512         Intel Core i7     0  256       AMD  \n",
       "997   100.454670    Intel Pentium Quad   500    0     Intel  \n",
       "502   158.482530         Intel Core i5     0  256     Intel  \n",
       "...          ...                   ...   ...  ...       ...  \n",
       "466   100.454670         Intel Core i3   500    0    Nvidia  \n",
       "299   141.211998         Intel Core i7     0  512    Nvidia  \n",
       "493   100.454670  AMD A10-Series 9620P  1000    0       AMD  \n",
       "527   100.454670         Intel Core i3  2000    0    Nvidia  \n",
       "1192  100.454670         Intel Core i5   500    0     Intel  \n",
       "\n",
       "[1107 rows x 12 columns]"
      ]
     },
     "execution_count": 79,
     "metadata": {},
     "output_type": "execute_result"
    }
   ],
   "source": [
    "X_train"
   ]
  },
  {
   "cell_type": "code",
   "execution_count": null,
   "id": "9f62814f-c7b5-4239-908c-23b3a0323a4a",
   "metadata": {},
   "outputs": [],
   "source": []
  }
 ],
 "metadata": {
  "kernelspec": {
   "display_name": "Python [conda env:dsml_40_env1]",
   "language": "python",
   "name": "conda-env-dsml_40_env1-py"
  },
  "language_info": {
   "codemirror_mode": {
    "name": "ipython",
    "version": 3
   },
   "file_extension": ".py",
   "mimetype": "text/x-python",
   "name": "python",
   "nbconvert_exporter": "python",
   "pygments_lexer": "ipython3",
   "version": "3.9.23"
  }
 },
 "nbformat": 4,
 "nbformat_minor": 5
}
